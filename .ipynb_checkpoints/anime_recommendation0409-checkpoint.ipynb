{
 "cells": [
  {
   "cell_type": "markdown",
   "metadata": {},
   "source": [
    "# DS4300 Project -- Anime Recommendation Engine\n",
    "## Professor John Rachlin\n",
    "## Group Member: Wenting Yue, Xiaofei Xie, Yuhan Wang, Yuxi Shen\n"
   ]
  },
  {
   "cell_type": "code",
   "execution_count": null,
   "metadata": {},
   "outputs": [],
   "source": []
  },
  {
   "cell_type": "code",
   "execution_count": null,
   "metadata": {},
   "outputs": [],
   "source": []
  },
  {
   "cell_type": "code",
   "execution_count": null,
   "metadata": {},
   "outputs": [],
   "source": []
  },
  {
   "cell_type": "code",
   "execution_count": 3,
   "metadata": {},
   "outputs": [],
   "source": [
    "import pandas as pd"
   ]
  },
  {
   "cell_type": "code",
   "execution_count": 5,
   "metadata": {
    "scrolled": true
   },
   "outputs": [
    {
     "data": {
      "text/plain": [
       "(14478, 20)"
      ]
     },
     "execution_count": 5,
     "metadata": {},
     "output_type": "execute_result"
    }
   ],
   "source": [
    "df = pd.read_csv(\"AnimeList.csv\")\n",
    "df = df.drop([\"title_english\", \"title_japanese\", \"title_synonyms\", \"image_url\", \"status\", \"aired\", \"background\", \"related\", \"licensor\", \"opening_theme\", \"ending_theme\"], axis=1)\n",
    "df.shape"
   ]
  },
  {
   "cell_type": "code",
   "execution_count": 6,
   "metadata": {},
   "outputs": [
    {
     "name": "stdout",
     "output_type": "stream",
     "text": [
      "(2672, 20)\n"
     ]
    }
   ],
   "source": [
    "df.dropna(inplace=True)\n",
    "print(df.shape)"
   ]
  },
  {
   "cell_type": "code",
   "execution_count": 7,
   "metadata": {},
   "outputs": [
    {
     "data": {
      "text/plain": [
       "anime_id          int64\n",
       "title            object\n",
       "type             object\n",
       "source           object\n",
       "episodes          int64\n",
       "airing             bool\n",
       "aired_string     object\n",
       "duration         object\n",
       "rating           object\n",
       "score           float64\n",
       "scored_by         int64\n",
       "rank            float64\n",
       "popularity        int64\n",
       "members           int64\n",
       "favorites         int64\n",
       "premiered        object\n",
       "broadcast        object\n",
       "producer         object\n",
       "studio           object\n",
       "genre            object\n",
       "dtype: object"
      ]
     },
     "execution_count": 7,
     "metadata": {},
     "output_type": "execute_result"
    }
   ],
   "source": [
    "df.dtypes"
   ]
  },
  {
   "cell_type": "code",
   "execution_count": 8,
   "metadata": {},
   "outputs": [],
   "source": [
    "df['genre1'] = df['genre'].str.split(',').str[0]"
   ]
  },
  {
   "cell_type": "code",
   "execution_count": 9,
   "metadata": {},
   "outputs": [],
   "source": [
    "df['genre2'] = df['genre'].str.split(',').str[1]"
   ]
  },
  {
   "cell_type": "code",
   "execution_count": 10,
   "metadata": {},
   "outputs": [],
   "source": [
    "df['genre3'] = df['genre'].str.split(',').str[2]"
   ]
  },
  {
   "cell_type": "code",
   "execution_count": 11,
   "metadata": {},
   "outputs": [],
   "source": [
    "df.drop('genre', axis=1, inplace=True)"
   ]
  },
  {
   "cell_type": "code",
   "execution_count": 12,
   "metadata": {},
   "outputs": [
    {
     "data": {
      "text/html": [
       "<div>\n",
       "<style scoped>\n",
       "    .dataframe tbody tr th:only-of-type {\n",
       "        vertical-align: middle;\n",
       "    }\n",
       "\n",
       "    .dataframe tbody tr th {\n",
       "        vertical-align: top;\n",
       "    }\n",
       "\n",
       "    .dataframe thead th {\n",
       "        text-align: right;\n",
       "    }\n",
       "</style>\n",
       "<table border=\"1\" class=\"dataframe\">\n",
       "  <thead>\n",
       "    <tr style=\"text-align: right;\">\n",
       "      <th></th>\n",
       "      <th>anime_id</th>\n",
       "      <th>title</th>\n",
       "      <th>type</th>\n",
       "      <th>source</th>\n",
       "      <th>episodes</th>\n",
       "      <th>airing</th>\n",
       "      <th>aired_string</th>\n",
       "      <th>duration</th>\n",
       "      <th>rating</th>\n",
       "      <th>score</th>\n",
       "      <th>...</th>\n",
       "      <th>popularity</th>\n",
       "      <th>members</th>\n",
       "      <th>favorites</th>\n",
       "      <th>premiered</th>\n",
       "      <th>broadcast</th>\n",
       "      <th>producer</th>\n",
       "      <th>studio</th>\n",
       "      <th>genre1</th>\n",
       "      <th>genre2</th>\n",
       "      <th>genre3</th>\n",
       "    </tr>\n",
       "  </thead>\n",
       "  <tbody>\n",
       "    <tr>\n",
       "      <th>0</th>\n",
       "      <td>11013</td>\n",
       "      <td>Inu x Boku SS</td>\n",
       "      <td>TV</td>\n",
       "      <td>Manga</td>\n",
       "      <td>12</td>\n",
       "      <td>False</td>\n",
       "      <td>Jan 13, 2012 to Mar 30, 2012</td>\n",
       "      <td>24 min. per ep.</td>\n",
       "      <td>PG-13 - Teens 13 or older</td>\n",
       "      <td>7.63</td>\n",
       "      <td>...</td>\n",
       "      <td>231</td>\n",
       "      <td>283882</td>\n",
       "      <td>2809</td>\n",
       "      <td>Winter 2012</td>\n",
       "      <td>Fridays at Unknown</td>\n",
       "      <td>Aniplex, Square Enix, Mainichi Broadcasting Sy...</td>\n",
       "      <td>David Production</td>\n",
       "      <td>Comedy</td>\n",
       "      <td>Supernatural</td>\n",
       "      <td>Romance</td>\n",
       "    </tr>\n",
       "    <tr>\n",
       "      <th>1</th>\n",
       "      <td>2104</td>\n",
       "      <td>Seto no Hanayome</td>\n",
       "      <td>TV</td>\n",
       "      <td>Manga</td>\n",
       "      <td>26</td>\n",
       "      <td>False</td>\n",
       "      <td>Apr 2, 2007 to Oct 1, 2007</td>\n",
       "      <td>24 min. per ep.</td>\n",
       "      <td>PG-13 - Teens 13 or older</td>\n",
       "      <td>7.89</td>\n",
       "      <td>...</td>\n",
       "      <td>366</td>\n",
       "      <td>204003</td>\n",
       "      <td>2579</td>\n",
       "      <td>Spring 2007</td>\n",
       "      <td>Unknown</td>\n",
       "      <td>TV Tokyo, AIC, Square Enix, Sotsu</td>\n",
       "      <td>Gonzo</td>\n",
       "      <td>Comedy</td>\n",
       "      <td>Parody</td>\n",
       "      <td>Romance</td>\n",
       "    </tr>\n",
       "    <tr>\n",
       "      <th>2</th>\n",
       "      <td>5262</td>\n",
       "      <td>Shugo Chara!! Doki</td>\n",
       "      <td>TV</td>\n",
       "      <td>Manga</td>\n",
       "      <td>51</td>\n",
       "      <td>False</td>\n",
       "      <td>Oct 4, 2008 to Sep 25, 2009</td>\n",
       "      <td>24 min. per ep.</td>\n",
       "      <td>PG - Children</td>\n",
       "      <td>7.55</td>\n",
       "      <td>...</td>\n",
       "      <td>1173</td>\n",
       "      <td>70127</td>\n",
       "      <td>802</td>\n",
       "      <td>Fall 2008</td>\n",
       "      <td>Unknown</td>\n",
       "      <td>TV Tokyo, Sotsu</td>\n",
       "      <td>Satelight</td>\n",
       "      <td>Comedy</td>\n",
       "      <td>Magic</td>\n",
       "      <td>School</td>\n",
       "    </tr>\n",
       "    <tr>\n",
       "      <th>3</th>\n",
       "      <td>721</td>\n",
       "      <td>Princess Tutu</td>\n",
       "      <td>TV</td>\n",
       "      <td>Original</td>\n",
       "      <td>38</td>\n",
       "      <td>False</td>\n",
       "      <td>Aug 16, 2002 to May 23, 2003</td>\n",
       "      <td>16 min. per ep.</td>\n",
       "      <td>PG-13 - Teens 13 or older</td>\n",
       "      <td>8.21</td>\n",
       "      <td>...</td>\n",
       "      <td>916</td>\n",
       "      <td>93312</td>\n",
       "      <td>3344</td>\n",
       "      <td>Summer 2002</td>\n",
       "      <td>Fridays at Unknown</td>\n",
       "      <td>Memory-Tech, GANSIS, Marvelous AQL</td>\n",
       "      <td>Hal Film Maker</td>\n",
       "      <td>Comedy</td>\n",
       "      <td>Drama</td>\n",
       "      <td>Magic</td>\n",
       "    </tr>\n",
       "    <tr>\n",
       "      <th>4</th>\n",
       "      <td>12365</td>\n",
       "      <td>Bakuman. 3rd Season</td>\n",
       "      <td>TV</td>\n",
       "      <td>Manga</td>\n",
       "      <td>25</td>\n",
       "      <td>False</td>\n",
       "      <td>Oct 6, 2012 to Mar 30, 2013</td>\n",
       "      <td>24 min. per ep.</td>\n",
       "      <td>PG-13 - Teens 13 or older</td>\n",
       "      <td>8.67</td>\n",
       "      <td>...</td>\n",
       "      <td>426</td>\n",
       "      <td>182765</td>\n",
       "      <td>2082</td>\n",
       "      <td>Fall 2012</td>\n",
       "      <td>Unknown</td>\n",
       "      <td>NHK, Shueisha</td>\n",
       "      <td>J.C.Staff</td>\n",
       "      <td>Comedy</td>\n",
       "      <td>Drama</td>\n",
       "      <td>Romance</td>\n",
       "    </tr>\n",
       "  </tbody>\n",
       "</table>\n",
       "<p>5 rows × 22 columns</p>\n",
       "</div>"
      ],
      "text/plain": [
       "   anime_id                title type    source  episodes  airing  \\\n",
       "0     11013        Inu x Boku SS   TV     Manga        12   False   \n",
       "1      2104     Seto no Hanayome   TV     Manga        26   False   \n",
       "2      5262   Shugo Chara!! Doki   TV     Manga        51   False   \n",
       "3       721        Princess Tutu   TV  Original        38   False   \n",
       "4     12365  Bakuman. 3rd Season   TV     Manga        25   False   \n",
       "\n",
       "                   aired_string         duration                     rating  \\\n",
       "0  Jan 13, 2012 to Mar 30, 2012  24 min. per ep.  PG-13 - Teens 13 or older   \n",
       "1    Apr 2, 2007 to Oct 1, 2007  24 min. per ep.  PG-13 - Teens 13 or older   \n",
       "2   Oct 4, 2008 to Sep 25, 2009  24 min. per ep.              PG - Children   \n",
       "3  Aug 16, 2002 to May 23, 2003  16 min. per ep.  PG-13 - Teens 13 or older   \n",
       "4   Oct 6, 2012 to Mar 30, 2013  24 min. per ep.  PG-13 - Teens 13 or older   \n",
       "\n",
       "   score  ...  popularity  members  favorites    premiered  \\\n",
       "0   7.63  ...         231   283882       2809  Winter 2012   \n",
       "1   7.89  ...         366   204003       2579  Spring 2007   \n",
       "2   7.55  ...        1173    70127        802    Fall 2008   \n",
       "3   8.21  ...         916    93312       3344  Summer 2002   \n",
       "4   8.67  ...         426   182765       2082    Fall 2012   \n",
       "\n",
       "            broadcast                                           producer  \\\n",
       "0  Fridays at Unknown  Aniplex, Square Enix, Mainichi Broadcasting Sy...   \n",
       "1             Unknown                  TV Tokyo, AIC, Square Enix, Sotsu   \n",
       "2             Unknown                                    TV Tokyo, Sotsu   \n",
       "3  Fridays at Unknown                 Memory-Tech, GANSIS, Marvelous AQL   \n",
       "4             Unknown                                      NHK, Shueisha   \n",
       "\n",
       "             studio  genre1         genre2    genre3  \n",
       "0  David Production  Comedy   Supernatural   Romance  \n",
       "1             Gonzo  Comedy         Parody   Romance  \n",
       "2         Satelight  Comedy          Magic    School  \n",
       "3    Hal Film Maker  Comedy          Drama     Magic  \n",
       "4         J.C.Staff  Comedy          Drama   Romance  \n",
       "\n",
       "[5 rows x 22 columns]"
      ]
     },
     "execution_count": 12,
     "metadata": {},
     "output_type": "execute_result"
    }
   ],
   "source": [
    "df.head(5)"
   ]
  },
  {
   "cell_type": "code",
   "execution_count": 13,
   "metadata": {},
   "outputs": [],
   "source": [
    "def length_of_eposide(length):\n",
    "    if 'min. per ep.' in length:\n",
    "        duration = length.replace('min. per ep.', '')\n",
    "    elif 'min' in length:\n",
    "        duration = length.replace('min.', '')\n",
    "    elif 'Unknown' in length:\n",
    "        duration = '0'\n",
    "    elif 'sec. per ep.' in length:\n",
    "        duration = length.replace('sec. per ep.', '')\n",
    "        duration = int(duration) / 60\n",
    "    return int(duration)"
   ]
  },
  {
   "cell_type": "code",
   "execution_count": 14,
   "metadata": {},
   "outputs": [],
   "source": [
    "df['duration'] = df['duration'].apply(length_of_eposide)"
   ]
  },
  {
   "cell_type": "code",
   "execution_count": 15,
   "metadata": {},
   "outputs": [
    {
     "data": {
      "text/plain": [
       "array([  12,   26,   51,   38,   25,   50,   24,   11,   13,  366,  500,\n",
       "        161,   60,   77,    0,   39,  167,   23,   70,   45,   10,   52,\n",
       "         22,   42,  131,  175,   14,    4,    5,  243,  178,   48,  148,\n",
       "         88,  172,   59,   44,   47,  120,  191,   35,   40,  291,   46,\n",
       "         36,   49,   92,   61,   16,   27,  276,   21,  130,   75,    9,\n",
       "         64,   20,   74,   43,   32,   56,   34,   37,   31,   65,   97,\n",
       "         98,  203,  102,  103,  143,   76,  373,  127,   69,    6,  296,\n",
       "         94,   95,    8,  109,   54,  142,  195,  192,   84,  153,   73,\n",
       "         17,    3,   29,  100,  220,  150,   66,   28,  224,   86,  151,\n",
       "        101,  258,  147,  104,  145,   78,    2,   30,   33,   63,  140,\n",
       "        137,  201,    7,  358,   53,   89,   58,  128,   15,  331,  154,\n",
       "        193,   91,  330,  215,  112,  163,  124,  164,   79,  114,  199,\n",
       "         55,  526,   99,   96,  182,  180, 1787,  136,  305, 1818,   62,\n",
       "         41,  283,   68,   18,  155,   93,  115])"
      ]
     },
     "execution_count": 15,
     "metadata": {},
     "output_type": "execute_result"
    }
   ],
   "source": [
    "df[\"episodes\"].unique()"
   ]
  },
  {
   "cell_type": "markdown",
   "metadata": {},
   "source": [
    "```\n",
    "LOAD CSV WITH HEADERS FROM \"file:///Users/shenyuxi/Documents/2023_spring/DS4300/4300_Anime_recommendation/4300_Anime_recommendation/anime_updated.csv\" AS row\n",
    "MERGE (s:Studio {name: row.studio})\n",
    "MERGE (a:Anime {name: row.title,rating: row.rating, source: row.source})\n",
    "MERGE(s) - [:CREATES] ->(a)\n",
    "RETURN s,a\n",
    "```"
   ]
  },
  {
   "cell_type": "code",
   "execution_count": 17,
   "metadata": {},
   "outputs": [],
   "source": [
    "import pandas as pd\n",
    "import numpy as np\n",
    "from py2neo import Graph, Node, Relationship\n",
    "\n",
    "# create a connection to the Neo4j database\n",
    "graph = Graph(\"bolt://localhost:7687\", auth=(\"neo4j\", \"Shenyuxi76!\"))"
   ]
  },
  {
   "cell_type": "code",
   "execution_count": null,
   "metadata": {},
   "outputs": [],
   "source": [
    "# def euclidean_distance(anime_a, anime_b, anime_features):\n",
    "#     d = 0\n",
    "#     for anime_feature in anime_features:\n",
    "#         d += (anime_a[anime_features] - anime_b[anime_features]) ** 2\n",
    "#     return np.sqrt(d)"
   ]
  },
  {
   "cell_type": "code",
   "execution_count": null,
   "metadata": {},
   "outputs": [],
   "source": [
    "# def vdm(data, feature, category1, category2):\n",
    "#     total_difference = 0\n",
    "#     attribute_data = data[feature]\n",
    "\n",
    "#     for category in attribute_data:\n",
    "#         probability1 = attribute_data[category].get(category1, 0)\n",
    "#         probability2 = attribute_data[category].get(category2, 0)\n",
    "#         total_difference += (probability1 - probability2) ** 2\n",
    "\n",
    "#     return (total_difference) ** 0.5"
   ]
  },
  {
   "cell_type": "code",
   "execution_count": 18,
   "metadata": {},
   "outputs": [],
   "source": [
    "import numpy as np\n",
    "\n",
    "def combined_distance(anime_a, anime_b, numeric_features, categorical_features, vdm_data):\n",
    "    # Euclidean distance for numeric features\n",
    "    euclidean = 0\n",
    "    for feature in numeric_features:\n",
    "        euclidean += (anime_a[feature] - anime_b[feature]) ** 2\n",
    "    euclidean = np.sqrt(euclidean)\n",
    "\n",
    "    # VDM distance for categorical features\n",
    "    vdm_distance = 0\n",
    "    for feature in categorical_features:\n",
    "        attribute_data = vdm_data[feature]\n",
    "        category1 = anime_a[feature]\n",
    "        category2 = anime_b[feature]\n",
    "\n",
    "        total_difference = 0\n",
    "        for category in attribute_data:\n",
    "            probability1 = attribute_data[category].get(category1, 0)\n",
    "            probability2 = attribute_data[category].get(category2, 0)\n",
    "            total_difference += (probability1 - probability2) ** 2\n",
    "\n",
    "        vdm_distance += (total_difference ** 0.5) ** 2\n",
    "\n",
    "    vdm_distance = np.sqrt(vdm_distance)\n",
    "\n",
    "    # Combine Euclidean and VDM distances\n",
    "    combined = (euclidean + vdm_distance) / 2\n",
    "\n",
    "    return combined"
   ]
  },
  {
   "cell_type": "code",
   "execution_count": 19,
   "metadata": {},
   "outputs": [],
   "source": [
    "list_of_categorical_features = ['source', 'type', 'rating','premiered','studio','genre1','genre2','genre3']"
   ]
  },
  {
   "cell_type": "code",
   "execution_count": 20,
   "metadata": {},
   "outputs": [],
   "source": [
    "list_of_numeric_features = ['episodes','score','rank','popularity','scored_by','members','favorites','duration']"
   ]
  },
  {
   "cell_type": "code",
   "execution_count": 21,
   "metadata": {},
   "outputs": [
    {
     "ename": "KeyboardInterrupt",
     "evalue": "",
     "output_type": "error",
     "traceback": [
      "\u001b[0;31m---------------------------------------------------------------------------\u001b[0m",
      "\u001b[0;31mKeyboardInterrupt\u001b[0m                         Traceback (most recent call last)",
      "\u001b[0;32m<ipython-input-21-ef217de7229d>\u001b[0m in \u001b[0;36m<module>\u001b[0;34m\u001b[0m\n\u001b[1;32m     18\u001b[0m     \u001b[0;32mfor\u001b[0m \u001b[0mj\u001b[0m \u001b[0;32min\u001b[0m \u001b[0mrange\u001b[0m\u001b[0;34m(\u001b[0m\u001b[0mlen\u001b[0m\u001b[0;34m(\u001b[0m\u001b[0mdf\u001b[0m\u001b[0;34m)\u001b[0m\u001b[0;34m)\u001b[0m\u001b[0;34m:\u001b[0m\u001b[0;34m\u001b[0m\u001b[0;34m\u001b[0m\u001b[0m\n\u001b[1;32m     19\u001b[0m         \u001b[0;32mif\u001b[0m \u001b[0mi\u001b[0m \u001b[0;34m!=\u001b[0m \u001b[0mj\u001b[0m\u001b[0;34m:\u001b[0m\u001b[0;34m\u001b[0m\u001b[0;34m\u001b[0m\u001b[0m\n\u001b[0;32m---> 20\u001b[0;31m             similarity_matrix[i][j] = combined_distance(df.iloc[i], df.iloc[j], list_of_numeric_features,\n\u001b[0m\u001b[1;32m     21\u001b[0m                                                         list_of_categorical_features, vdm_data)\n",
      "\u001b[0;32m<ipython-input-18-5f58a4ce21c2>\u001b[0m in \u001b[0;36mcombined_distance\u001b[0;34m(anime_a, anime_b, numeric_features, categorical_features, vdm_data)\u001b[0m\n\u001b[1;32m      5\u001b[0m     \u001b[0meuclidean\u001b[0m \u001b[0;34m=\u001b[0m \u001b[0;36m0\u001b[0m\u001b[0;34m\u001b[0m\u001b[0;34m\u001b[0m\u001b[0m\n\u001b[1;32m      6\u001b[0m     \u001b[0;32mfor\u001b[0m \u001b[0mfeature\u001b[0m \u001b[0;32min\u001b[0m \u001b[0mnumeric_features\u001b[0m\u001b[0;34m:\u001b[0m\u001b[0;34m\u001b[0m\u001b[0;34m\u001b[0m\u001b[0m\n\u001b[0;32m----> 7\u001b[0;31m         \u001b[0meuclidean\u001b[0m \u001b[0;34m+=\u001b[0m \u001b[0;34m(\u001b[0m\u001b[0manime_a\u001b[0m\u001b[0;34m[\u001b[0m\u001b[0mfeature\u001b[0m\u001b[0;34m]\u001b[0m \u001b[0;34m-\u001b[0m \u001b[0manime_b\u001b[0m\u001b[0;34m[\u001b[0m\u001b[0mfeature\u001b[0m\u001b[0;34m]\u001b[0m\u001b[0;34m)\u001b[0m \u001b[0;34m**\u001b[0m \u001b[0;36m2\u001b[0m\u001b[0;34m\u001b[0m\u001b[0;34m\u001b[0m\u001b[0m\n\u001b[0m\u001b[1;32m      8\u001b[0m     \u001b[0meuclidean\u001b[0m \u001b[0;34m=\u001b[0m \u001b[0mnp\u001b[0m\u001b[0;34m.\u001b[0m\u001b[0msqrt\u001b[0m\u001b[0;34m(\u001b[0m\u001b[0meuclidean\u001b[0m\u001b[0;34m)\u001b[0m\u001b[0;34m\u001b[0m\u001b[0;34m\u001b[0m\u001b[0m\n\u001b[1;32m      9\u001b[0m \u001b[0;34m\u001b[0m\u001b[0m\n",
      "\u001b[0;32m~/opt/anaconda3/lib/python3.8/site-packages/pandas/core/series.py\u001b[0m in \u001b[0;36m__getitem__\u001b[0;34m(self, key)\u001b[0m\n\u001b[1;32m    966\u001b[0m     \u001b[0;32mdef\u001b[0m \u001b[0m__getitem__\u001b[0m\u001b[0;34m(\u001b[0m\u001b[0mself\u001b[0m\u001b[0;34m,\u001b[0m \u001b[0mkey\u001b[0m\u001b[0;34m)\u001b[0m\u001b[0;34m:\u001b[0m\u001b[0;34m\u001b[0m\u001b[0;34m\u001b[0m\u001b[0m\n\u001b[1;32m    967\u001b[0m         \u001b[0mcheck_deprecated_indexers\u001b[0m\u001b[0;34m(\u001b[0m\u001b[0mkey\u001b[0m\u001b[0;34m)\u001b[0m\u001b[0;34m\u001b[0m\u001b[0;34m\u001b[0m\u001b[0m\n\u001b[0;32m--> 968\u001b[0;31m         \u001b[0mkey\u001b[0m \u001b[0;34m=\u001b[0m \u001b[0mcom\u001b[0m\u001b[0;34m.\u001b[0m\u001b[0mapply_if_callable\u001b[0m\u001b[0;34m(\u001b[0m\u001b[0mkey\u001b[0m\u001b[0;34m,\u001b[0m \u001b[0mself\u001b[0m\u001b[0;34m)\u001b[0m\u001b[0;34m\u001b[0m\u001b[0;34m\u001b[0m\u001b[0m\n\u001b[0m\u001b[1;32m    969\u001b[0m \u001b[0;34m\u001b[0m\u001b[0m\n\u001b[1;32m    970\u001b[0m         \u001b[0;32mif\u001b[0m \u001b[0mkey\u001b[0m \u001b[0;32mis\u001b[0m \u001b[0mEllipsis\u001b[0m\u001b[0;34m:\u001b[0m\u001b[0;34m\u001b[0m\u001b[0;34m\u001b[0m\u001b[0m\n",
      "\u001b[0;31mKeyboardInterrupt\u001b[0m: "
     ]
    }
   ],
   "source": [
    "vdm_data = {}\n",
    "\n",
    "for feature in list_of_categorical_features:\n",
    "    feature_data = df[feature].value_counts(normalize=True).to_dict()\n",
    "    vdm_data[feature] = {}\n",
    "    \n",
    "    for category1 in feature_data.keys():\n",
    "        vdm_data[feature][category1] = {}\n",
    "        for category2 in feature_data.keys():\n",
    "            if category1 == category2:\n",
    "                vdm_data[feature][category1][category2] = 0\n",
    "            else:\n",
    "                vdm_data[feature][category1][category2] = abs(feature_data[category1] - feature_data[category2])\n",
    "\n",
    "# Create a similarity matrix\n",
    "similarity_matrix = np.zeros((len(df), len(df)))\n",
    "for i in range(len(df)):\n",
    "    for j in range(len(df)):\n",
    "        if i != j:\n",
    "            similarity_matrix[i][j] = combined_distance(df.iloc[i], df.iloc[j], list_of_numeric_features,\n",
    "                                                        list_of_categorical_features, vdm_data)"
   ]
  },
  {
   "cell_type": "code",
   "execution_count": 23,
   "metadata": {},
   "outputs": [
    {
     "data": {
      "text/plain": [
       "array([[     0.        ,  46608.24442775, 118454.012532  , ...,\n",
       "        158284.62530145, 158248.86675621, 158313.48776796],\n",
       "       [ 46608.24442775,      0.        ,  72200.85081358, ...,\n",
       "        112019.59676544, 111969.67198125, 112045.27997819],\n",
       "       [118454.012532  ,  72200.85081358,      0.        , ...,\n",
       "         40419.35065675,  40301.6674652 ,  40436.71530879],\n",
       "       ...,\n",
       "       [     0.        ,      0.        ,      0.        , ...,\n",
       "             0.        ,      0.        ,      0.        ],\n",
       "       [     0.        ,      0.        ,      0.        , ...,\n",
       "             0.        ,      0.        ,      0.        ],\n",
       "       [     0.        ,      0.        ,      0.        , ...,\n",
       "             0.        ,      0.        ,      0.        ]])"
      ]
     },
     "execution_count": 23,
     "metadata": {},
     "output_type": "execute_result"
    }
   ],
   "source": [
    "similarity_matrix"
   ]
  },
  {
   "cell_type": "code",
   "execution_count": null,
   "metadata": {},
   "outputs": [],
   "source": [
    "graph.delete_all()\n",
    "\n",
    "# create nodes for the songs in the sample\n",
    "for index, Anime in df.iterrows():\n",
    "    node = Node('Anime', id=Anime['anime_id'], name=Anime['title'], source=Anime['source'], type=Anime['type'],\n",
    "                rating=Anime['rating'], premiered=Anime['premiered'], studio=Anime['studio'],\n",
    "                genre1=Anime['genre1'], genre2=Anime['genre2'],genre3=Anime['genre3'], episodes=Anime['episodes'],\n",
    "                score=Anime['score'], rank=Anime['rank'], popularity=Anime['popularity'],\n",
    "                scored_by=Anime['scored_by'], members=Anime['members'], favorites=Anime['favorites'],\n",
    "                duration=Anime['duration'])\n",
    "    graph.create(node)\n",
    "    \n",
    "anime_nodes = list(graph.nodes.match(\"Anime\"))"
   ]
  },
  {
   "cell_type": "code",
   "execution_count": null,
   "metadata": {},
   "outputs": [],
   "source": [
    "# iterate over the similarity matrix and create relationships between the nodes\n",
    "for i in range(len(df)):\n",
    "    for j in range(0, i):\n",
    "        anime1 = anime_nodes[i]\n",
    "        anime2 = anime_nodes[j]\n",
    "        distance = float(similarity_matrix[i][j])\n",
    "\n",
    "        # create relationship between the songs that meet threshold\n",
    "        if distance < 13:\n",
    "            # create a similarity relationship between the songs\n",
    "            similarity_rel = Relationship(anime1, \"SIMILAR_TO\", anime2, distance=distance)\n",
    "\n",
    "            # create the relationship in the database\n",
    "            graph.create(similarity_rel)"
   ]
  },
  {
   "cell_type": "code",
   "execution_count": null,
   "metadata": {},
   "outputs": [],
   "source": [
    "#这个是雨涵写的，这里没有建立producer和anime的关系，但是我们poster上用了producer和anime的graph \n",
    "# define the Cypher query to Recommend\n",
    "cypher_query = \"\"\"\n",
    "    MATCH (a1:Anime)-[r:SIMILAR_TO]-(a2:Anime)\n",
    "    WHERE a1.name IN [] AND NOT s2.name IN []\n",
    "    WITH a2.title AS title, a2.producer AS producer, a2.studio AS studio, MIN(r.distance) AS min_distance\n",
    "    RETURN title, producer, studio\n",
    "    ORDER BY min_distance ASC\n",
    "    LIMIT 5\n",
    "\"\"\"\n"
   ]
  },
  {
   "cell_type": "code",
   "execution_count": null,
   "metadata": {},
   "outputs": [],
   "source": [
    "# 这个是我们写的,还没改\n",
    "cypher_query = \"\"\"\n",
    "MATCH (a:Artist {name: \"Regina Spektor\"})-[:PERFORMS]->(t:Track)-[s:SIMILAR]->(rec:Track)<-[:PERFORMS]-(rec_a:Artist)\n",
    "WHERE NOT (a)-[:PERFORMS]->(rec)\n",
    "WITH rec_a.name AS artist, rec.name AS track, rec.popularity AS popularity, s.distance AS distance\n",
    "ORDER BY distance \n",
    "LIMIT 5\n",
    "RETURN DISTINCT artist, track, popularity, distance\n",
    "\"\"\""
   ]
  }
 ],
 "metadata": {
  "kernelspec": {
   "display_name": "Python 3",
   "language": "python",
   "name": "python3"
  },
  "language_info": {
   "codemirror_mode": {
    "name": "ipython",
    "version": 3
   },
   "file_extension": ".py",
   "mimetype": "text/x-python",
   "name": "python",
   "nbconvert_exporter": "python",
   "pygments_lexer": "ipython3",
   "version": "3.8.5"
  }
 },
 "nbformat": 4,
 "nbformat_minor": 5
}
